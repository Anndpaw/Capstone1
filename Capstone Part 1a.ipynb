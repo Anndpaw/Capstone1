{
    "cells": [
        {
            "cell_type": "markdown",
            "metadata": {
                "collapsed": true
            },
            "source": "This Notebook will be mainly used for the capstone project."
        },
        {
            "cell_type": "code",
            "execution_count": 1,
            "metadata": {},
            "outputs": [],
            "source": "import pandas as pd\nimport numpy as np"
        },
        {
            "cell_type": "code",
            "execution_count": 2,
            "metadata": {},
            "outputs": [
                {
                    "name": "stdout",
                    "output_type": "stream",
                    "text": "Hello Capstone Project Course!\n"
                }
            ],
            "source": "print (\"Hello Capstone Project Course!\")"
        },
        {
            "cell_type": "markdown",
            "metadata": {},
            "source": "# Part 1"
        },
        {
            "cell_type": "markdown",
            "metadata": {},
            "source": "Problem: To discuss the severity and fatalities of vehicle accidents. "
        },
        {
            "cell_type": "markdown",
            "metadata": {},
            "source": "Background: Traffic accidents is always a major concern for public health and traffic\nsafety.  Within the United States, there are approximately 228 million licensed drivers\nand these drivers all risk their lives every time they are behind the wheel of a vehicle.\nThere are 277 million registered vehicles in the US. \nBased on statistics from years 2007 to 2016, statistics resulted in more than 5.8 million\nauto crashes that occur yearly. Approximately 21% of those, a little over 1.2 million,\ninvolves hazardous weather.  These vehicle crashes have killed an average of 5,376 people\nannually; equating to about 16% of all vehicular deaths. \u201cMore than 418,000 others were\ninjured each year during that same period\u201d. (NSC,2020)\n\nNational Safety Council. (2020). Registered vehicles in US, 2020 National Safety Council.\n    Retrieved at https://injuryfacts.nsc.org/motor-vehicle/overview/introduction/.\n\n"
        },
        {
            "cell_type": "markdown",
            "metadata": {},
            "source": "Description of Data: The dataset being used is data that was downloaded from several websites such as National Department of Transportation, Provided data within Week 1 Capstone, and data from Kaggle.  \n\nHow Data is being used: The data is being used in a couple of data science tools such as Gretl, Rapidminer, and Jupyter to create predictions, graphs, and charts.  However, depending on results, tools may change. \n\n"
        }
    ],
    "metadata": {
        "kernelspec": {
            "display_name": "Python 3.6",
            "language": "python",
            "name": "python3"
        },
        "language_info": {
            "codemirror_mode": {
                "name": "ipython",
                "version": 3
            },
            "file_extension": ".py",
            "mimetype": "text/x-python",
            "name": "python",
            "nbconvert_exporter": "python",
            "pygments_lexer": "ipython3",
            "version": "3.6.9"
        }
    },
    "nbformat": 4,
    "nbformat_minor": 1
}